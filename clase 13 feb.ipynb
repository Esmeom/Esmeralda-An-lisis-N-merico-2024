{
 "cells": [
  {
   "cell_type": "code",
   "execution_count": 9,
   "id": "infinite-evening",
   "metadata": {},
   "outputs": [
    {
     "name": "stderr",
     "output_type": "stream",
     "text": [
      "/home/aamyf/.local/lib/python3.9/site-packages/matplotlib/projections/__init__.py:63: UserWarning: Unable to import Axes3D. This may be due to multiple versions of Matplotlib being installed (e.g. as a system package and as a pip package). As a result, the 3D projection is not available.\n",
      "  warnings.warn(\"Unable to import Axes3D. This may be due to multiple versions of \"\n"
     ]
    }
   ],
   "source": [
    "#importamos las librerias\n",
    "import numpy as np\n",
    "import sympy as sy\n",
    "import matplotlib.pyplot as plt\n"
   ]
  },
  {
   "cell_type": "code",
   "execution_count": null,
   "id": "finnish-diesel",
   "metadata": {},
   "outputs": [],
   "source": [
    "#esta función que queremos definir calcula el error de convergencia para un n"
   ]
  },
  {
   "cell_type": "code",
   "execution_count": 32,
   "id": "soviet-hammer",
   "metadata": {},
   "outputs": [],
   "source": [
    "#definimos N como el maximo n que va a abarcar\n",
    "N=60\n",
    "#definimos a y como un arreglo inicializada  con cero con rango N+1\n",
    "y=np.empty(N+1)\n",
    "#valores iniciales que ya tenemos de y\n",
    "y[0]=1\n",
    "y[1]=1/5\n",
    "\n",
    "#para n que va de 2 a N+1 hacemos y[n]: es una secuencia loop\n",
    "for n in range(2, N+1):\n",
    "    y[n]=((16/5)*y[n-1])-((3/5)*(y[n-2]))\n",
    "    "
   ]
  },
  {
   "cell_type": "code",
   "execution_count": 33,
   "id": "practical-communication",
   "metadata": {},
   "outputs": [
    {
     "data": {
      "image/png": "[encoded data removed]",
      "text/plain": [
       "<Figure size 432x288 with 1 Axes>"
      ]
     },
     "metadata": {
      "needs_background": "light"
     },
     "output_type": "display_data"
    }
   ],
   "source": [
    "#definimos n como un arreglo de 0 a N+1\n",
    "n=np.arange(N+1)\n",
    "\n",
    "#se usa el semilogy para datos logaritmicos si\n",
    "#se pone rx de estetica de la linea r de rojo y x de cruces, lo mismo con bp b de azul y p de puntitos\n",
    "plt.semilogy(n,y,'rx', label='a')\n",
    "plt.semilogy(n,(1/5)**n,'bp', label='b')\n",
    "\n",
    "plt.legend()\n",
    "plt.grid(True)\n",
    "plt.show()"
   ]
  },
  {
   "cell_type": "code",
   "execution_count": 35,
   "id": "individual-output",
   "metadata": {
    "scrolled": true
   },
   "outputs": [
    {
     "data": {
      "text/plain": [
       "array([1.00000000e+00, 2.00000000e-01, 4.00000000e-02, 8.00000000e-03,\n",
       "       1.60000000e-03, 3.20000000e-04, 6.40000000e-05, 1.28000000e-05,\n",
       "       2.56000012e-06, 5.12000352e-07, 1.02401056e-07, 2.04831673e-08,\n",
       "       4.10550196e-09, 8.47705882e-10, 2.49357647e-10, 2.89320942e-10,\n",
       "       7.76212426e-10, 2.31028720e-09, 6.92719158e-09, 2.07808407e-08,\n",
       "       6.23423754e-08, 1.87027097e-07, 5.61081284e-07, 1.68324385e-06,\n",
       "       5.04973156e-06, 1.51491947e-05, 4.54475840e-05, 1.36342752e-04,\n",
       "       4.09028256e-04, 1.22708477e-03, 3.68125430e-03, 1.10437629e-02,\n",
       "       3.31312887e-02, 9.93938662e-02, 2.98181599e-01, 8.94544796e-01,\n",
       "       2.68363439e+00, 8.05090316e+00, 2.41527095e+01, 7.24581285e+01,\n",
       "       2.17374385e+02, 6.52123156e+02, 1.95636947e+03, 5.86910841e+03,\n",
       "       1.76073252e+04, 5.28219757e+04, 1.58465927e+05, 4.75397781e+05,\n",
       "       1.42619334e+06, 4.27858003e+06, 1.28357401e+07, 3.85072202e+07,\n",
       "       1.15521661e+08, 3.46564982e+08, 1.03969495e+09, 3.11908484e+09,\n",
       "       9.35725452e+09, 2.80717636e+10, 8.42152907e+10, 2.52645872e+11,\n",
       "       7.57937616e+11])"
      ]
     },
     "execution_count": 35,
     "metadata": {},
     "output_type": "execute_result"
    }
   ],
   "source": [
    "y"
   ]
  },
  {
   "cell_type": "code",
   "execution_count": 36,
   "id": "veterinary-craps",
   "metadata": {},
   "outputs": [
    {
     "name": "stdout",
     "output_type": "stream",
     "text": [
      "Machine parameters for float16\n",
      "---------------------------------------------------------------\n",
      "precision =   3   resolution = 1.00040e-03\n",
      "machep =    -10   eps =        9.76562e-04\n",
      "negep =     -11   epsneg =     4.88281e-04\n",
      "minexp =    -14   tiny =       6.10352e-05\n",
      "maxexp =     16   max =        6.55040e+04\n",
      "nexp =        5   min =        -max\n",
      "smallest_normal = 6.10352e-05   smallest_subnormal = 5.96046e-08\n",
      "---------------------------------------------------------------\n",
      "\n"
     ]
    }
   ],
   "source": [
    "#para obtener informacion de especificos flotantes\n",
    "print(np.finfo(np.float16))"
   ]
  },
  {
   "cell_type": "code",
   "execution_count": null,
   "id": "elder-kitchen",
   "metadata": {},
   "outputs": [],
   "source": []
  }
 ],
 "metadata": {
  "kernelspec": {
   "display_name": "Python 3",
   "language": "python",
   "name": "python3"
  },
  "language_info": {
   "codemirror_mode": {
    "name": "ipython",
    "version": 3
   },
   "file_extension": ".py",
   "mimetype": "text/x-python",
   "name": "python",
   "nbconvert_exporter": "python",
   "pygments_lexer": "ipython3",
   "version": "3.9.2"
  }
 },
 "nbformat": 4,
 "nbformat_minor": 5
}
