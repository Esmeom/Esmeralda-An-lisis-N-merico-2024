{
 "cells": [
  {
   "cell_type": "markdown",
   "id": "b5c06635-5dd3-4e22-ad9f-29ce05411599",
   "metadata": {},
   "source": [
    "Para un sistema lineal de ecuaciones descritas por la matriz de coeficientes A, vector de variables X y las salidas en vector F este se describe por el producto de matrices AX=F.\n",
    "Reduciendo la matriz por reducción de renglones hasta obtener una matriz triangular superior U y entonces AX=F se convierte en UX=G, resolver para X ya es más sencillo y se hace a traves de la sustitución hacia atras, entonces tenemos el valor de las variables X y nuestro sistema lineal resuelto.\n",
    "\n",
    "El algoritmo viene descrito en el capitulo 3, seccion 3.1 del Scott. Numerical Analysis. \n"
   ]
  },
  {
   "cell_type": "markdown",
   "id": "5f0b688b-86d8-48f3-8341-0e995837622a",
   "metadata": {},
   "source": [
    "ESCRIBIENDO $AX=F$"
   ]
  },
  {
   "cell_type": "code",
   "execution_count": 5,
   "id": "161f84cb-faab-4658-88fd-0303c48aefa3",
   "metadata": {},
   "outputs": [
    {
     "name": "stdout",
     "output_type": "stream",
     "text": [
      "[[ 2  4  6]\n",
      " [ 4  5  6]\n",
      " [ 3  1 -2]]\n",
      "[x y z]\n",
      "[18 24  4]\n"
     ]
    }
   ],
   "source": [
    "#para trabajar con vectores y matrices es el numpy\n",
    "#para trabajar con valores simbolicos es el sympy\n",
    "import numpy as np\n",
    "import sympy as sy\n",
    "\n",
    "x,y,z= sy.symbols('x,y,z')\n",
    "\n",
    "X= np.array([x,y,z])\n",
    "#Inserta los coeficientes de cada ecuacion: los n elementos de la matriz A por fila\n",
    "A= np.array([[2,4,6],[4,5,6],[3,1,-2]])\n",
    "#insertar las igualdades de cada ecuacion: los n elementos del vector F\n",
    "F= np.array([18,24,4])\n",
    "\n",
    "print(A)\n",
    "print(X)\n",
    "print(F)"
   ]
  },
  {
   "cell_type": "markdown",
   "id": "b12278a4-b68f-46cc-a5a3-2d9fa4c1962c",
   "metadata": {},
   "source": [
    "OBTENCION DE $U$ y $G$"
   ]
  },
  {
   "cell_type": "code",
   "execution_count": 6,
   "id": "5fad8d98-5450-4b48-b373-b2c94a5f521c",
   "metadata": {},
   "outputs": [
    {
     "name": "stdout",
     "output_type": "stream",
     "text": [
      "[[ 2  4  6]\n",
      " [ 0 -3 -6]\n",
      " [ 0  0 -1]]\n",
      "[ 18 -12  -3]\n"
     ]
    }
   ],
   "source": [
    "def triang(A,F):\n",
    "    #copiamos A y F para no usar originales\n",
    "    U = np.copy(A)\n",
    "    G = np.copy(F)\n",
    "    #saca el tamaño del vector F y se lo asigna a n, n es el numero de elementos por fila y columna\n",
    "    n = F.size\n",
    "    \n",
    "    for j in range(n-1):\n",
    "        for i in range(j+1,n):\n",
    "            M =U[i,j]/U[j,j]\n",
    "            #j: hace que j recorra toda la fila\n",
    "            U[i,j:] = U[i,j:] - (M*U[j,j:])\n",
    "            G[i]= G[i] - (M*G[j])\n",
    "    return U,G\n",
    "\n",
    "#la funcion triang devuelve dos valores, 0 es U y 1 es G por eso se escribe [0] y [1] para acceder al return 0 y return 1            \n",
    "U=triang(A,F)[0]\n",
    "print(U)\n",
    "G=triang(A,F)[1]\n",
    "print(G)"
   ]
  },
  {
   "cell_type": "markdown",
   "id": "a3874bdb-4009-4a8f-a131-f6d8605aaa15",
   "metadata": {},
   "source": [
    "SUSTITUCION PARA ATRAS PARA OBTENCION DE SOLUCION X"
   ]
  },
  {
   "cell_type": "code",
   "execution_count": 7,
   "id": "b5bb9377-02f4-4a12-82e3-e696baf2766a",
   "metadata": {},
   "outputs": [],
   "source": [
    "def sol(U,G):\n",
    "    n = G.size\n",
    "    #inicializa vector x de tamaño n con ceros \n",
    "    x = np.zeros(n)\n",
    "    a = 0\n",
    "    for i in reversed(range(n)):\n",
    "        if i == n-1:\n",
    "            x[i] = (G[i])/(U[i,i])\n",
    "            continue\n",
    "        else:\n",
    "            for j in range (i+1,n):\n",
    "                a += U[i,j]*x[j]\n",
    "            x[i] = (G[i]/U[i,i]) - (1/U[i,i])*a\n",
    "            a = 0\n",
    "    return x"
   ]
  },
  {
   "cell_type": "code",
   "execution_count": 8,
   "id": "e7f1a69a-9619-4888-bdb6-ae797787f7fe",
   "metadata": {},
   "outputs": [
    {
     "data": {
      "text/plain": [
       "array([ 4., -2.,  3.])"
      ]
     },
     "execution_count": 8,
     "metadata": {},
     "output_type": "execute_result"
    }
   ],
   "source": [
    "sol(U,G)\n"
   ]
  },
  {
   "cell_type": "code",
   "execution_count": null,
   "id": "829197c9-0bd0-42ff-8dcf-642d966e560e",
   "metadata": {},
   "outputs": [],
   "source": []
  }
 ],
 "metadata": {
  "kernelspec": {
   "display_name": "Python 3 (ipykernel)",
   "language": "python",
   "name": "python3"
  },
  "language_info": {
   "codemirror_mode": {
    "name": "ipython",
    "version": 3
   },
   "file_extension": ".py",
   "mimetype": "text/x-python",
   "name": "python",
   "nbconvert_exporter": "python",
   "pygments_lexer": "ipython3",
   "version": "3.11.7"
  }
 },
 "nbformat": 4,
 "nbformat_minor": 5
}
