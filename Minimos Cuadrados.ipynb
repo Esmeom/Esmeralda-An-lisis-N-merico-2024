{
 "cells": [
  {
   "cell_type": "markdown",
   "id": "bea581ca-5cc6-49f7-a5ee-2b165e972e99",
   "metadata": {},
   "source": [
    "Un programa para un ajuste de linea recta con cuadrados minimos.\n",
    "Se necesitan datos (x,y) con su incertidumbre.\n",
    "\n",
    "Code 6.5 first computes the helper variables of Eq. (6.125). We then define another\r\n",
    "function to evaluate the ck’s from Eq. (6.128) and the σck ’s fromEq. (6.131).We store these\r\n",
    "in two numpy arrays: this is overkill for our 2 × 2 problem, but it sets the stage for what\r\n",
    "is to follow.40 Having determined the ck’s, we then define another function to compute the\r\n",
    "(minimum) χ2 from Eq. (6.123).\r\n",
    "The main program sets up the data corresponding to Fig. 6.1 and then proceeds to call\r\n",
    "the last two functions, first computing the ck’s and then using them to compute the χ2."
   ]
  },
  {
   "cell_type": "code",
   "execution_count": 2,
   "id": "6f1375a9-9f7a-4406-8bfb-452a54807c9c",
   "metadata": {},
   "outputs": [
    {
     "name": "stdout",
     "output_type": "stream",
     "text": [
      "[3.04593186 0.5189044 ]\n",
      "[0.02927752 0.04896135]\n",
      "1.0991681955435215\n"
     ]
    }
   ],
   "source": [
    "import numpy as np\n",
    "def helpers(dataxs,datays,datasigs):\n",
    "    S = np.sum(1/datasigs**2)\n",
    "    Sx = np.sum(dataxs/datasigs**2)\n",
    "    Sy = np.sum(datays/datasigs**2)\n",
    "    Sxx = np.sum(dataxs**2/datasigs**2)\n",
    "    Sxy = np.sum(dataxs*datays/datasigs**2)\n",
    "    Del = S*Sxx - Sx**2\n",
    "    return S, Sx, Sy, Sxx, Sxy, Del\n",
    "def computecs(dataxs,datays,datasigs):\n",
    "    S,Sx,Sy,Sxx,Sxy,Del = helpers(dataxs,datays,datasigs)\n",
    "    cs = np.zeros(2); dcs = np.zeros(2)\n",
    "    cs[0] = (Sxx*Sy - Sx*Sxy)/Del\n",
    "    cs[1] = (S*Sxy - Sx*Sy)/Del\n",
    "    dcs[0] = np.sqrt(Sxx/Del)\n",
    "    dcs[1] = np.sqrt(S/Del)\n",
    "    return cs, dcs\n",
    "def computechisq(dataxs,datays,datasigs,cs):\n",
    "    chisq = np.sum((datays-cs[0]-cs[1]*dataxs)**2/datasigs**2)\n",
    "    return chisq\n",
    "dataxs = np.linspace(0,1,6)\n",
    "datays = np.array([3.085, 3.123, 3.224, 3.360, 3.438, 3.569])\n",
    "datasigs = np.array([0.048, 0.053, 0.02, 0.005, 0.023, 0.07])\n",
    "cs, dcs = computecs(dataxs, datays, datasigs)\n",
    "print(cs); print(dcs)\n",
    "chisq = computechisq(dataxs, datays, datasigs, cs)\n",
    "print(chisq/(dataxs.size - cs.size))"
   ]
  },
  {
   "cell_type": "code",
   "execution_count": null,
   "id": "61946787-3dd4-4431-b64c-3bd9ec640731",
   "metadata": {},
   "outputs": [],
   "source": []
  }
 ],
 "metadata": {
  "kernelspec": {
   "display_name": "Python 3 (ipykernel)",
   "language": "python",
   "name": "python3"
  },
  "language_info": {
   "codemirror_mode": {
    "name": "ipython",
    "version": 3
   },
   "file_extension": ".py",
   "mimetype": "text/x-python",
   "name": "python",
   "nbconvert_exporter": "python",
   "pygments_lexer": "ipython3",
   "version": "3.11.7"
  }
 },
 "nbformat": 4,
 "nbformat_minor": 5
}
