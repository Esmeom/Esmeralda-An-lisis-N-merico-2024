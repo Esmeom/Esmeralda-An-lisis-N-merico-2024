{
 "cells": [
  {
   "cell_type": "markdown",
   "id": "collaborative-development",
   "metadata": {},
   "source": [
    "Numero dual de Grassman\n",
    "Libro Gezerlis 3.4 Derivación Automatica\n",
    "\n",
    "# Derivación automatica\n",
    "Una forma de definir derivadas en una computadora es atra ves de la diferenciación automatica o diferenciación algoritmica.\n",
    "\n",
    "3.4.1 Numeros duales\n",
    "Un numero dual es tal $a$ que se extiende agregandole un componente \n",
    "$\\mathbf{a}=a+a'd$ \n",
    "Y se ocupa $d²=0$\n",
    "\n",
    "Como funciona la adición con numeros duales\n",
    "$\\mathbf{a+b}=(a+a'd)+(b+b'd)=a+b+(a'+b')d$\n",
    "\n",
    "Y la multiplicación con numeros duales\n",
    "$\\mathbf{axb}=(a+a'd)x(b+b'd)=ab+ab'd+ba'd+a'b'd²=ab+(ab'+a'b)d$\n",
    "\n",
    "Podemos dejar de usar $d$ y escribir los numeros duales usando pares ordenados de numeros reales $\\mathbf{a}=(a,a')$\n",
    "Entonces a nos da el valor de una función en un punto especifico y a' el valor de la derivada de esa funcion en ese mismo punto. Entonces las reglas aritmeticas basicas quedan:\n",
    "\n",
    "$\\mathbf{a+b}=(a+b,a'+b')$\n",
    "$\\mathbf{axb}=(ab,ab'+a'b)$\n",
    "Estos numeros duales nos dan una forma de diferenciar entre operaciones matematicas elemantarias.\n",
    "Definimos\n",
    "Constantes $\\mathbf{c}=(c,0)$\n",
    "Variables independientes $\\mathbf{x}=(x,1)$\n"
   ]
  },
  {
   "cell_type": "code",
   "execution_count": null,
   "id": "parliamentary-cleaner",
   "metadata": {},
   "outputs": [],
   "source": []
  }
 ],
 "metadata": {
  "kernelspec": {
   "display_name": "Python 3",
   "language": "python",
   "name": "python3"
  },
  "language_info": {
   "codemirror_mode": {
    "name": "ipython",
    "version": 3
   },
   "file_extension": ".py",
   "mimetype": "text/x-python",
   "name": "python",
   "nbconvert_exporter": "python",
   "pygments_lexer": "ipython3",
   "version": "3.9.2"
  }
 },
 "nbformat": 4,
 "nbformat_minor": 5
}
