{
 "cells": [
  {
   "cell_type": "markdown",
   "id": "f0dcfbee",
   "metadata": {},
   "source": [
    "## Dada una función f(x), determinar el orden de aproximación O si requerimos que el resto $R_n (x)$ sea menor que cierto valor númerico.\n",
    "\n",
    "Se que $R_n(x)=f(x)-T_n(x)$\n"
   ]
  },
  {
   "cell_type": "code",
   "execution_count": 20,
   "id": "be1438e7",
   "metadata": {},
   "outputs": [
    {
     "name": "stdout",
     "output_type": "stream",
     "text": [
      "función f\n"
     ]
    },
    {
     "data": {
      "text/latex": [
       "$\\displaystyle \\sin{\\left(x \\right)}$"
      ],
      "text/plain": [
       "sin(x)"
      ]
     },
     "metadata": {},
     "output_type": "display_data"
    },
    {
     "name": "stdout",
     "output_type": "stream",
     "text": [
      "serie de f\n"
     ]
    },
    {
     "data": {
      "text/latex": [
       "$\\displaystyle x + O\\left(x^{3}\\right)$"
      ],
      "text/plain": [
       "x + O(x**3)"
      ]
     },
     "metadata": {},
     "output_type": "display_data"
    },
    {
     "name": "stdout",
     "output_type": "stream",
     "text": [
      "Valor de f evaluada en 1\n"
     ]
    },
    {
     "data": {
      "text/plain": [
       "0.8414709848078965"
      ]
     },
     "metadata": {},
     "output_type": "display_data"
    },
    {
     "name": "stdout",
     "output_type": "stream",
     "text": [
      "Valor de t evaluada en 1\n"
     ]
    },
    {
     "data": {
      "text/plain": [
       "1"
      ]
     },
     "metadata": {},
     "output_type": "display_data"
    },
    {
     "name": "stdout",
     "output_type": "stream",
     "text": [
      "resto\n"
     ]
    },
    {
     "data": {
      "text/plain": [
       "-0.1585290151921035"
      ]
     },
     "metadata": {},
     "output_type": "display_data"
    },
    {
     "name": "stdout",
     "output_type": "stream",
     "text": [
      "Tolerancia dada\n"
     ]
    },
    {
     "data": {
      "text/plain": [
       "1"
      ]
     },
     "metadata": {},
     "output_type": "display_data"
    },
    {
     "name": "stdout",
     "output_type": "stream",
     "text": [
      "Orden de la aproximación deseada: O(x**3)\n"
     ]
    }
   ],
   "source": [
    "import numpy as np\n",
    "import sympy as sy\n",
    "import matplotlib.pyplot as plt\n",
    "\n",
    "# Definiendo letra como símbolo matemático\n",
    "x = sy.symbols('x')\n",
    "\n",
    "#defino el valor numerico que no quiero que supere el resto\n",
    "tolerancia= 1\n",
    "\n",
    "# Defino función mera mera\n",
    "f = sy.sin(x)\n",
    "print('función f')\n",
    "display(f)\n",
    "\n",
    "for orden in range(3, 20):\n",
    "    # Serie de Taylor de f(x)\n",
    "    t = sy.series(f, x, 0, orden)\n",
    "    print('serie de f')\n",
    "    display(t)\n",
    "\n",
    "    #da el orden del error\n",
    "    orden = t.getO()\n",
    "\n",
    "    #removemos el temino que estima la magnitud de error pues es un simbolo y quiero numeros\n",
    "    tt = t.removeO()\n",
    "    \n",
    "\n",
    "    #usamos lambdify para convertir mis funciones simbolicas f y gx en funciones numericas \n",
    "    ffunc = sy.lambdify(x,f)\n",
    "    tfunc = sy.lambdify(x,tt)\n",
    "\n",
    "    print('Valor de f evaluada en 1')\n",
    "    display(ffunc(1))\n",
    "    \n",
    "    print('Valor de t evaluada en 1')\n",
    "    display(tfunc(1))\n",
    "    \n",
    "    # Resto\n",
    "    resto = ffunc(1)-tfunc(1)\n",
    "    print('resto')\n",
    "    display(resto)\n",
    "    \n",
    "    if resto < tolerancia:\n",
    "        print('Tolerancia dada')\n",
    "        display(tolerancia)\n",
    "        \n",
    "        print(f\"Orden de la aproximación deseada: {orden}\")\n",
    "        break"
   ]
  },
  {
   "cell_type": "code",
   "execution_count": null,
   "id": "b29d7971",
   "metadata": {},
   "outputs": [],
   "source": []
  }
 ],
 "metadata": {
  "kernelspec": {
   "display_name": "Python 3 (ipykernel)",
   "language": "python",
   "name": "python3"
  },
  "language_info": {
   "codemirror_mode": {
    "name": "ipython",
    "version": 3
   },
   "file_extension": ".py",
   "mimetype": "text/x-python",
   "name": "python",
   "nbconvert_exporter": "python",
   "pygments_lexer": "ipython3",
   "version": "3.11.5"
  }
 },
 "nbformat": 4,
 "nbformat_minor": 5
}
