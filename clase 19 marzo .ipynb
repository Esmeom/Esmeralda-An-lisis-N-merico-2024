{
 "cells": [
  {
   "attachments": {
    "images.png": {
     "image/png": "[encoded data removed]"
    }
   },
   "cell_type": "markdown",
   "id": "industrial-husband",
   "metadata": {},
   "source": [
    "# DERIVADA\n",
    "## Aproximando la derivada por delante y por detras\n",
    "$f'(x)=\\frac{f(x+h)-f(x)}{h} + O(h)$\n",
    "\n",
    "$f'(x)=\\frac{f(x)-f(x-h)}{h}+ O(h)$\n",
    "\n",
    "![images.png](attachment:images.png)\n",
    "\n",
    "Salen de aqui dos posibles errores \n",
    "\n",
    "Error de aproximación $\\epsilon_p$\n",
    "\n",
    "1) $\\epsilon_p=\\frac{h}{2}|f''(x)|$\n",
    "\n",
    "Error aritmetico $\\epsilon_a$ que incluye el error de maquina(por float oasi) $\\epsilon_m$\n",
    "\n",
    "2) $\\epsilon_a=\\frac{2|f(x)|\\epsilon_m}{h}$\n",
    "\n",
    "El error total sera\n",
    "$\\epsilon_t=\\epsilon_p+\\epsilon_a$\n",
    "Este se puede disminuir si hacemos que lo que sale de la derivada del error total sea igual a cero,\n",
    "Mi $h$ optima para el menor error es\n",
    "$h=4\\epsilon_m \\frac{f(x)}{f''(x)}$"
   ]
  },
  {
   "cell_type": "code",
   "execution_count": 8,
   "id": "extraordinary-continent",
   "metadata": {},
   "outputs": [],
   "source": [
    "import numpy as np\n",
    "\n",
    "def f(x):\n",
    "    f= np.exp(np.sin(2*x))\n",
    "    return f\n",
    "\n",
    "def derad(x,h):\n",
    "    y = (f(x+h) - f(x))\n",
    "    return y/h\n",
    "\n",
    "def derat(x,h):\n",
    "    Y= (f(x)-f(x-h))/h\n",
    "    return Y\n",
    " "
   ]
  },
  {
   "cell_type": "code",
   "execution_count": 15,
   "id": "wicked-journalism",
   "metadata": {},
   "outputs": [
    {
     "name": "stdout",
     "output_type": "stream",
     "text": [
      "(0.01, 2.506761534986894, 0.02603591569007424, -0.024955632705643715)\n",
      "(0.001, 2.506761534986894, 0.0025550421497806397, -0.0025442380656341967)\n",
      "(0.0001, 2.506761534986894, 0.00025501809412364906, -0.0002549100500308654)\n",
      "(1e-05, 2.506761534986894, 2.549695425191345e-05, -2.54958557226459e-05)\n",
      "(1e-06, 2.506761534986894, 2.549266057805255e-06, -2.549322160483314e-06)\n",
      "(1e-07, 2.506761534986894, 2.5643346734938177e-07, -2.5426912397819024e-07)\n",
      "(1e-08, 2.506761534986894, -1.890184275765705e-08, -1.890184275765705e-08)\n",
      "(1e-09, 2.506761534986894, -3.7417321063770714e-07, 6.991599921235547e-08)\n",
      "(1e-10, 2.506761534986894, -2.1505300500379576e-06, 2.2903620484626686e-06)\n",
      "(1e-11, 2.506761534986894, -3.323677473954234e-05, 1.1172146245463921e-05)\n",
      "(1e-12, 2.506761534986894, -0.00012205461670955486, 0.00032203459314050775)\n",
      "(1e-13, 2.506761534986894, -0.002342500665959868, 0.0020983914325407582)\n",
      "(1e-14, 2.506761534986894, -0.024546961158463, 0.019861959826543263)\n",
      "(1e-15, 2.506761534986894, -0.15777372411348178, 0.28631548573658083)\n",
      "(1e-16, 2.506761534986894, -1.9341305635137322, 2.506761534986894)\n",
      "(1e-17, 2.506761534986894, 2.506761534986894, 2.506761534986894)\n"
     ]
    }
   ],
   "source": [
    "x=0.5\n",
    "fp=np.exp(np.sin(2*x))*2*np.cos(2*x) \n",
    "\n",
    "for i in range (2,18):\n",
    "    h = 10**(-i)\n",
    "    H= fp - derad(x,h)\n",
    "    HH=fp - derat(x,h)\n",
    "    print((h,fp,H,HH,))"
   ]
  },
  {
   "cell_type": "code",
   "execution_count": null,
   "id": "touched-decision",
   "metadata": {},
   "outputs": [],
   "source": [
    "\n",
    "import numpy as np\n",
    "import matplotlib.pyplot as plt\n",
    "\n",
    "n = 100\n",
    "x_0 = np.linspace(-10, 10,n)\n",
    "y_0 = np.cos(x_0)\n",
    "y_1 = np.sin(x_0)\n",
    "plt.plot(x_0, y_0)\n",
    "plt.plot(x_0, y_1)\n",
    "plt.grid(True)\n",
    "plt.show()"
   ]
  }
 ],
 "metadata": {
  "kernelspec": {
   "display_name": "Python 3",
   "language": "python",
   "name": "python3"
  },
  "language_info": {
   "codemirror_mode": {
    "name": "ipython",
    "version": 3
   },
   "file_extension": ".py",
   "mimetype": "text/x-python",
   "name": "python",
   "nbconvert_exporter": "python",
   "pygments_lexer": "ipython3",
   "version": "3.9.2"
  }
 },
 "nbformat": 4,
 "nbformat_minor": 5
}
