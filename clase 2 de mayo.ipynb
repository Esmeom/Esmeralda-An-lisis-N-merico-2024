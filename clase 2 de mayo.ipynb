{
 "cells": [
  {
   "cell_type": "markdown",
   "id": "renewable-concentrate",
   "metadata": {},
   "source": [
    "# Resolver ecuaciones diferenciales ordinarias EDOs\n",
    "\n",
    "## Metodo de Euler para delante \n",
    "Gezerlis 8.2.1.1 Forward Euler, pag 571 \n",
    "## Runge–Kutta method\n",
    "Gezerlis 8.2.2 pag 578"
   ]
  },
  {
   "cell_type": "code",
   "execution_count": null,
   "id": "correct-constant",
   "metadata": {},
   "outputs": [],
   "source": []
  }
 ],
 "metadata": {
  "kernelspec": {
   "display_name": "Python 3",
   "language": "python",
   "name": "python3"
  },
  "language_info": {
   "codemirror_mode": {
    "name": "ipython",
    "version": 3
   },
   "file_extension": ".py",
   "mimetype": "text/x-python",
   "name": "python",
   "nbconvert_exporter": "python",
   "pygments_lexer": "ipython3",
   "version": "3.9.2"
  }
 },
 "nbformat": 4,
 "nbformat_minor": 5
}
