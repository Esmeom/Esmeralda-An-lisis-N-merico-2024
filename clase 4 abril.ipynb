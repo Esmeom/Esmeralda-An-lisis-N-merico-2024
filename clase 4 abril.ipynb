{
 "cells": [
  {
   "cell_type": "markdown",
   "id": "timely-duncan",
   "metadata": {},
   "source": [
    "# INTEGRACION NUMERICA O CUADRATURA\n",
    "Bibliografia a checar 7.1 y 7.2(pag. 456-461) y 7.2.4 de Numerical Methods in physics with Python, Gezerlis\n",
    "\n",
    "\n",
    "### Por las siguientes razones, queremos un metodo numerico para calcular integrales\n",
    "\n",
    "1. Un integrando elemental no garantiza una integral elemental (recuerda que integrando es la cosa dentro del integral e integral ya es el resultado osea la antiderivada)\n",
    "2. A veces tenemos una tabla de valores $[x_i,f(x_i)]$ no el integrando $f(x)$\n",
    "3. A veces la evaluación de la antiderivada es impráctico\n",
    "\n",
    "### En intento de resolver estas problematicas ocupo metodo \"integral númerico\", esta se define como\n",
    "Sea $f(x)$ una curva con dominio $[a,b]$\n",
    "\n",
    "Su integral numerico se define como $\\sum_{n=0}^{N-1}f(x_i)C_i$ \n",
    "\n",
    "Donde $x_i$ se llaman abcisas nodales y $C_i$ pesos.\n",
    "\n",
    "\n",
    "### Distintos metodos númericos que definen a su forma este tipo de integral\n",
    "\n",
    "I. Metodos abiertos(Gauss y punto medio): a y b no son abcisas nodales\n",
    "\n",
    "II. Metodos cerrados(Simpson y trapecio): a y b son abcisas nodales\n",
    "\n",
    "III. Newton-Cotes: sumando rectangulos-rejilla equidistante\n",
    "\n",
    "IV. Cuadratura Gaussiana: espaciamiento es irregular\n",
    "\n",
    "\n",
    "Ojo\n",
    "Para la parte 7.2.1.1 de la bibliografia: Error Analysis, vas a ocupar leerle a esta cosa $f(x)=f(x_i)+(x-x_i)f'(\\xi_i)$ que se llama forma de lagrange para el resto de una serie de Taylor. Checale."
   ]
  },
  {
   "cell_type": "markdown",
   "id": "headed-potter",
   "metadata": {},
   "source": [
    "### Implementación a programa python\n",
    "El profe dice que tomemos una función f(x) en un intervalo e implementemos tres metodos: RECTANGULO, TRAPEZOIDE Y PUNTO MEDIO  para observar que resulta y cual se acerca más a la integral, calculando su error.\n",
    "\n",
    "El sig programa lo saque de 7.2.7 Implementation\n",
    "El profe dice que de que me sirve copiar y correr un codigo hecho, que que gano U.U quedé\n"
   ]
  },
  {
   "cell_type": "code",
   "execution_count": 7,
   "id": "floppy-wallpaper",
   "metadata": {},
   "outputs": [
    {
     "name": "stdout",
     "output_type": "stream",
     "text": [
      "0.8813735870195429\n",
      "0.8842907340357441 0.8813618018476096 0.8813735872550068 "
     ]
    }
   ],
   "source": [
    "import numpy as np\n",
    "\n",
    "def f(x):\n",
    "    return 1 / np.sqrt(x ** 2 + 1)\n",
    "\n",
    "def rectangle(f, a, b, n):\n",
    "    h = (b - a) / (n - 1)\n",
    "    xs = a + np.arange(n - 1) * h\n",
    "    fs = f(xs)\n",
    "    return h * np.sum(fs)\n",
    "\n",
    "def trapezoid(f, a, b, n):\n",
    "    h = (b - a) / (n - 1)\n",
    "    xs = a + np.arange(n) * h\n",
    "    cs = np.ones(n)\n",
    "    cs[0] = 0.5\n",
    "    cs[-1] = 0.5\n",
    "    contribs = cs * f(xs)\n",
    "    return h * np.sum(contribs)\n",
    "\n",
    "def simpson(f, a, b, n):\n",
    "    h = (b - a) / (n - 1)\n",
    "    xs = a + np.arange(n) * h\n",
    "    cs = 2 * np.ones(n)\n",
    "    cs[1::2] = 4\n",
    "    cs[0] = 1\n",
    "    cs[-1] = 1\n",
    "    contribs = cs * f(xs)\n",
    "    return (h / 3) * np.sum(contribs)\n",
    "\n",
    "if __name__ == '__main__':\n",
    "    ans = np.log(1 + np.sqrt(2))\n",
    "    print(ans)\n",
    "    for integrator in (rectangle, trapezoid, simpson):\n",
    "        print(integrator(f, 0., 1., 51), end=\" \")\n"
   ]
  },
  {
   "cell_type": "code",
   "execution_count": null,
   "id": "pediatric-pointer",
   "metadata": {},
   "outputs": [],
   "source": []
  }
 ],
 "metadata": {
  "kernelspec": {
   "display_name": "Python 3",
   "language": "python",
   "name": "python3"
  },
  "language_info": {
   "codemirror_mode": {
    "name": "ipython",
    "version": 3
   },
   "file_extension": ".py",
   "mimetype": "text/x-python",
   "name": "python",
   "nbconvert_exporter": "python",
   "pygments_lexer": "ipython3",
   "version": "3.9.2"
  }
 },
 "nbformat": 4,
 "nbformat_minor": 5
}
