{
 "cells": [
  {
   "cell_type": "markdown",
   "id": "649e9760",
   "metadata": {},
   "source": [
    "# Calculo de la raiz cuadrada de 2 mediante aproximaciones usando una iteración de función heron "
   ]
  },
  {
   "cell_type": "code",
   "execution_count": 2,
   "id": "7c0cf1fa",
   "metadata": {},
   "outputs": [
    {
     "name": "stdout",
     "output_type": "stream",
     "text": [
      "x = 1.5\n",
      "Error absoluto=  0.08578643762690485\n",
      "x = 1.4166666666666665\n",
      "Error absoluto=  0.002453104293571373\n",
      "x = 1.4142156862745097\n",
      "Error absoluto=  2.123901414519125e-06\n",
      "x = 1.4142135623746899\n",
      "Error absoluto=  1.5947243525715749e-12\n",
      "El valor final de x es: 1.4142135623746899\n"
     ]
    }
   ],
   "source": [
    "import math\n",
    "#defino valor inicial adivinado de x \n",
    "x_initial = 1\n",
    "\n",
    "#defino el numero del cual quiero la raiz cuadrada\n",
    "y = 2\n",
    "\n",
    "#defino mi función heron con argumento x y y\n",
    "def heron(x, y):\n",
    "    #mientras la diferencia entre la nueva x y la x viejita sea significante se realiza\n",
    "    while True:\n",
    "        new_x = 0.5 * (x + y / x)\n",
    "        if abs(new_x - x) < 1e-6:  # Detenerse si el cambio en x es muy pequeño\n",
    "            break\n",
    "        #reasigno a x\n",
    "        x = new_x\n",
    "        print(\"x =\", x)\n",
    "        errabs = new_x - math.sqrt(y)\n",
    "        print(\"Error absoluto= \", errabs)\n",
    "        #imprimo cada x calculada hasta que el cambio ya no sea significante\n",
    "    return x\n",
    "\n",
    "#ya que entre x el cambio ya no se nota ya esa es una buena aproximación y \n",
    "final_x = heron(x_initial, y)\n",
    "print(\"El valor final de x es:\", final_x)\n"
   ]
  },
  {
   "cell_type": "code",
   "execution_count": null,
   "id": "bda76238",
   "metadata": {},
   "outputs": [],
   "source": []
  }
 ],
 "metadata": {
  "kernelspec": {
   "display_name": "Python 3 (ipykernel)",
   "language": "python",
   "name": "python3"
  },
  "language_info": {
   "codemirror_mode": {
    "name": "ipython",
    "version": 3
   },
   "file_extension": ".py",
   "mimetype": "text/x-python",
   "name": "python",
   "nbconvert_exporter": "python",
   "pygments_lexer": "ipython3",
   "version": "3.11.5"
  }
 },
 "nbformat": 4,
 "nbformat_minor": 5
}
