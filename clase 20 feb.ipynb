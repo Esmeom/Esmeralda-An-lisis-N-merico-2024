{
 "cells": [
  {
   "cell_type": "markdown",
   "id": "available-bread",
   "metadata": {},
   "source": [
    "# Metodo Newton-Rhapson-Simpson\n",
    "## Encontrar raices\n",
    "### Numerical Analysis, Scott, Capitulo 2\n",
    "Buscamos solución a la ecuación de Kepler $x-Esin x=\\tau$\n",
    "\n",
    "Entonces para solucionar esta ecuación se busca una función g(x) que se reitere hasta N veces hasta encontrar el punto fijo es decir una $x_{n+1}= g(x_n)$ hasta un punto fijo que ya convergio $x_N=g(x_N)$\n",
    "\n",
    "Propuesta de Newton: $g(x)=x+\\frac{\\tau-x+E sinx}{1-Ecosx}$\n",
    "\n",
    "Propuesta de Kepler: $g(x)=\\tau+E sin x$\n",
    "\n",
    "¿Cual converge al punto fijo más rapido?\n",
    "\n",
    "Hay que hacer un programita que encuente el punto fijo x con ambas funciones y ver cual converge al punto fijo más rapido (en menos iteraciones)"
   ]
  },
  {
   "cell_type": "code",
   "execution_count": null,
   "id": "split-twins",
   "metadata": {},
   "outputs": [],
   "source": [
    "import numpy as np\n",
    "import sympy as sy\n",
    "import matplotlib.pyplot as plt\n",
    "\n",
    "#defino mi ecuacion de kepler como una funcin\n",
    "def f(epsilon, tau, x):\n",
    "    return (tau-x+epsilon*np.sin(x))\n",
    "def gn(epsilon, tau, x):\n",
    "    return (x+(tau-x+epsilon*np.sin(x))/(1-E *np.cos(x)))\n"
   ]
  }
 ],
 "metadata": {
  "kernelspec": {
   "display_name": "Python 3",
   "language": "python",
   "name": "python3"
  },
  "language_info": {
   "codemirror_mode": {
    "name": "ipython",
    "version": 3
   },
   "file_extension": ".py",
   "mimetype": "text/x-python",
   "name": "python",
   "nbconvert_exporter": "python",
   "pygments_lexer": "ipython3",
   "version": "3.9.2"
  }
 },
 "nbformat": 4,
 "nbformat_minor": 5
}
