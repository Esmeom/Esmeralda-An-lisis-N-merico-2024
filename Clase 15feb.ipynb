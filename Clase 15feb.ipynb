{
 "cells": [
  {
   "cell_type": "code",
   "execution_count": null,
   "id": "checked-prayer",
   "metadata": {},
   "outputs": [],
   "source": [
    "#ENCONTRANDO RAICES\n",
    "#PAGINA 2 CAPITULO 1 DE SCOTT NUMERICAL ANALYSIS\n",
    "#Se usa un algoritmo de iteracion repetida \"de punto fijo\" \n",
    "#Buscamos encontrar un punto fijo donde al calcular x, esta deje de cambiar\n",
    "#Tambien nos interesa el error que hay de lo que sale del x al usar ese algoritmo en comparacion con la raiz exacta del numero\n",
    "#Nos interesa hacer el algoritmo de Heron y lo de su error & tambien lo del de Newton un poko\n",
    "#Hay tarea y es el ejercicio 1.12 del Scott o.O\n"
   ]
  },
  {
   "cell_type": "code",
   "execution_count": 4,
   "id": "champion-intellectual",
   "metadata": {},
   "outputs": [],
   "source": [
    "#importamos las librerias\n",
    "import numpy as np\n",
    "import sympy as sy\n",
    "import matplotlib.pyplot as plt"
   ]
  },
  {
   "cell_type": "code",
   "execution_count": 6,
   "id": "excessive-consultation",
   "metadata": {},
   "outputs": [
    {
     "name": "stdout",
     "output_type": "stream",
     "text": [
      "La raíz cuadrada de 25 es: 5.0\n"
     ]
    }
   ],
   "source": [
    "def heron(n, precision=1e-10, max_iter=1000):\n",
    "    \"\"\"\n",
    "    Encuentra la raíz cuadrada de n usando el método de Herón.\n",
    "    \n",
    "    :param n: El número del cual se quiere encontrar la raíz cuadrada.\n",
    "    :param precision: La precisión deseada.\n",
    "    :param max_iter: El número máximo de iteraciones permitidas.\n",
    "    :return: La raíz cuadrada de n.\n",
    "    \"\"\"\n",
    "    x = n / 2  # Asumimos una aproximación inicial de la raíz cuadrada de n\n",
    "    for _ in range(max_iter):\n",
    "        y = (x + n / x) / 2  # Fórmula de Herón para la siguiente aproximación\n",
    "        if abs(x - y) < precision:  # Comprobamos si la diferencia es menor que la precisión deseada\n",
    "            return y\n",
    "        x = y\n",
    "    return x  # En caso de no converger, devolvemos la aproximación actual\n",
    "\n",
    "# Ejemplo de uso:\n",
    "numero = 25  # El número del cual queremos encontrar la raíz cuadrada\n",
    "raiz_cuadrada = heron(numero)\n",
    "print(\"La raíz cuadrada de\", numero, \"es:\", raiz_cuadrada)\n"
   ]
  },
  {
   "cell_type": "code",
   "execution_count": null,
   "id": "vocal-horse",
   "metadata": {},
   "outputs": [],
   "source": []
  }
 ],
 "metadata": {
  "kernelspec": {
   "display_name": "Python 3",
   "language": "python",
   "name": "python3"
  },
  "language_info": {
   "codemirror_mode": {
    "name": "ipython",
    "version": 3
   },
   "file_extension": ".py",
   "mimetype": "text/x-python",
   "name": "python",
   "nbconvert_exporter": "python",
   "pygments_lexer": "ipython3",
   "version": "3.9.2"
  }
 },
 "nbformat": 4,
 "nbformat_minor": 5
}
