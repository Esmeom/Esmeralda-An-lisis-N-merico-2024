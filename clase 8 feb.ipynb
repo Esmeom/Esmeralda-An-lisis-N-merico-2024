{
 "cells": [
  {
   "cell_type": "markdown",
   "id": "e5f2edf8",
   "metadata": {},
   "source": [
    "**Este ejemplo de programita ilustra cómo los cálculos con números de punto flotante pueden conducir a resultados inesperados debido a la precisión limitada de la representación numérica en la computadora.**\n",
    "\n",
    "El programa da un numero a operar: el 1, le suma y resta 10000 veces 0.1... Esto al final sabemos qur deberia arrojar un 1, pues no hubo cambios, sin embargo al hacer este calculo aqui en python, hay un error producido por las cifras significativas que usa el lenguaje."
   ]
  },
  {
   "cell_type": "markdown",
   "id": "e6573d60",
   "metadata": {},
   "source": [
    "### Ejemplo 1"
   ]
  },
  {
   "cell_type": "code",
   "execution_count": 10,
   "id": "83a1e3b7",
   "metadata": {},
   "outputs": [
    {
     "data": {
      "text/plain": [
       "0.9999999999999561"
      ]
     },
     "execution_count": 10,
     "metadata": {},
     "output_type": "execute_result"
    }
   ],
   "source": [
    "#OJO no importo biblitecas por que no uso nada que ocupe estas biblitecas\n",
    "#El definir un función, sumar, restar etc ya viene incluido en el lenguaje basico de python\n",
    "\n",
    "#defino una función llamada iternum con rango n, esta inicializa result a valor 1\n",
    "def iternum(n):\n",
    "    result = 1\n",
    "\n",
    "#hago dos ciclos for para i hasta que llegue a n, sumar y restar 0.1 n veces\n",
    "    for i in range(n):\n",
    "        result += 0.1\n",
    "\n",
    "    for i in range(n):\n",
    "        result -= 0.1\n",
    "        \n",
    "    return result\n",
    "\n",
    "#llamo a la función iternum con n=10000\n",
    "iternum(10000)"
   ]
  },
  {
   "cell_type": "markdown",
   "id": "27991711",
   "metadata": {},
   "source": [
    "### Ejemplo 2"
   ]
  },
  {
   "cell_type": "code",
   "execution_count": 5,
   "id": "c5a1eb68",
   "metadata": {},
   "outputs": [
    {
     "name": "stdout",
     "output_type": "stream",
     "text": [
      "Resultado esperado: 1.0 \n",
      "Resultado real arrojado:0.9999999999999999\n"
     ]
    }
   ],
   "source": [
    "#SUMA\n",
    "#inicializo variable total en 0\n",
    "total = 0.0\n",
    "\n",
    "#ciclo donde sumo 0.1 a total 10 veces\n",
    "for i in range(10):\n",
    "    total += 0.1\n",
    "    \n",
    "#imprimo el resultado total cuando se acaba el for\n",
    "print(f\"Resultado esperado: 1.0 \\nResultado real arrojado:{total}\")"
   ]
  },
  {
   "cell_type": "code",
   "execution_count": 6,
   "id": "58de4ffe",
   "metadata": {},
   "outputs": [
    {
     "name": "stdout",
     "output_type": "stream",
     "text": [
      "Resultado esperado: -1.0\n",
      "Resultado real arrojado: -0.9999999999999999\n"
     ]
    }
   ],
   "source": [
    "#RESTA\n",
    "total = 0.0\n",
    "for i in range(10):\n",
    "    total -= 0.1\n",
    "print(f\"Resultado esperado: -1.0\\nResultado real arrojado: {total}\")"
   ]
  },
  {
   "cell_type": "code",
   "execution_count": 7,
   "id": "9527f687",
   "metadata": {},
   "outputs": [
    {
     "data": {
      "text/plain": [
       "1.0000000000001166"
      ]
     },
     "execution_count": 7,
     "metadata": {},
     "output_type": "execute_result"
    }
   ],
   "source": [
    "def iternum(n):\n",
    "    result = 1\n",
    "    \n",
    "    for i in range(n):\n",
    "        result += 1/3\n",
    "        \n",
    "    for i in range(n):\n",
    "        result -= 1/3\n",
    "    \n",
    "    return result\n",
    "iternum(10000)"
   ]
  },
  {
   "cell_type": "code",
   "execution_count": null,
   "id": "9a334bfa",
   "metadata": {},
   "outputs": [],
   "source": []
  }
 ],
 "metadata": {
  "kernelspec": {
   "display_name": "Python 3 (ipykernel)",
   "language": "python",
   "name": "python3"
  },
  "language_info": {
   "codemirror_mode": {
    "name": "ipython",
    "version": 3
   },
   "file_extension": ".py",
   "mimetype": "text/x-python",
   "name": "python",
   "nbconvert_exporter": "python",
   "pygments_lexer": "ipython3",
   "version": "3.11.5"
  }
 },
 "nbformat": 4,
 "nbformat_minor": 5
}
