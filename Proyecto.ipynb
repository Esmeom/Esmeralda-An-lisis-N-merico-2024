{
 "cells": [
  {
   "cell_type": "markdown",
   "id": "rocky-filename",
   "metadata": {},
   "source": [
    "# Ley de radiación de Plank\n",
    "La densidad de energia dentro de un cuerpo negro isotermico se calcula con la ley de radiación de Plank dada por la siguiente ecuación\n",
    "$$\\varphi(\\gamma)= \\frac{8\\pi Pc}{\\gamma⁵(e^{Pc/\\gamma Tk}-1)} \\label{eq1}\\tag{1} $$\n",
    "\n",
    "Suponiendo queremos calcular la longitud de onda $\\gamma_1$ para el valor maximo de la densidad de energia $\\varphi(\\gamma_1)$, entonces calculo $\\varphi´(\\gamma)=0$.\n"
   ]
  },
  {
   "cell_type": "markdown",
   "id": "everyday-retirement",
   "metadata": {},
   "source": [
    "Para transformar la ecuación $(1)$ en una ecuación no lineal, escribiendola como una función $\\psi(u)$ usando $u=\\frac{Pc}{\\gamma Tk}$\n",
    "\n",
    "\n",
    "\n",
    "resultando en\n",
    "la siguiente expresión $\\psi_4(u)=-1+\\frac{u}{5}+e^{-u}\\label{eq2}\\tag{2}$. \n",
    "\n",
    "Derivando la ecuación $(2)$ e igualando a cero, puedo obtener los puntos criticos ... Si grafico $(2)$ igual puedo ver donde intersecta con cero y asi encontrar el valor inicial a reiterar.\n"
   ]
  },
  {
   "cell_type": "code",
   "execution_count": 16,
   "id": "breathing-monte",
   "metadata": {},
   "outputs": [
    {
     "name": "stdout",
     "output_type": "stream",
     "text": [
      "1/5 - exp(-u)\n",
      "[log(5)]\n"
     ]
    },
    {
     "data": {
      "image/png": "[encoded data removed]",
      "text/plain": [
       "<Figure size 432x288 with 1 Axes>"
      ]
     },
     "metadata": {
      "needs_background": "light"
     },
     "output_type": "display_data"
    }
   ],
   "source": [
    "#para no escribir sympy cada que ocupe algo de sympy \n",
    "from sympy import *\n",
    "\n",
    "import numpy as np\n",
    "import matplotlib.pyplot as plt\n",
    "\n",
    "#defino u como variable simbólica\n",
    "u = symbols('u')\n",
    "\n",
    "# Define tu función usando sympy\n",
    "psi = -1 + u/5 + exp(-u)\n",
    "print('función psi(u): ')\n",
    "display(psi)\n",
    "\n",
    "\n",
    "# Calcula su primera derivada\n",
    "df = diff(psi, u)\n",
    "\n",
    "print('primera derivada de psi: ')\n",
    "display(df)\n",
    "\n",
    "# Igualando a cero, calcula para qué valor de \n",
    "pc = solve(Eq(df, 0))\n",
    "print(pc)\n",
    "\n",
    "\n",
    "# Convierte la expresión simbólica de psi en una función numérica\n",
    "psi_func = lambdify(u, psi, modules='numpy')\n",
    "\n",
    "# Define el rango de valores de u para graficar\n",
    "u_values = np.linspace(-10, 10, 100)  # Puedes ajustar el rango y la cantidad de puntos\n",
    "\n",
    "# Evalúa la función psi en los valores de u\n",
    "psi_values = psi_func(u_values)\n",
    "\n",
    "#GRAFICA\n",
    "\n",
    "#definimos un rango de valores para u\n",
    "u_values = np.linspace(-10, 10)\n",
    "\n",
    "plt.plot(u_values, psi_values, label='psi')\n",
    "plt.legend()\n",
    "plt.title(\"psi\")\n",
    "plt.xlabel(\"u\")\n",
    "plt.ylabel(\"psi\")\n",
    "plt.show()\n"
   ]
  },
  {
   "cell_type": "code",
   "execution_count": null,
   "id": "established-holiday",
   "metadata": {},
   "outputs": [],
   "source": []
  }
 ],
 "metadata": {
  "kernelspec": {
   "display_name": "Python 3",
   "language": "python",
   "name": "python3"
  },
  "language_info": {
   "codemirror_mode": {
    "name": "ipython",
    "version": 3
   },
   "file_extension": ".py",
   "mimetype": "text/x-python",
   "name": "python",
   "nbconvert_exporter": "python",
   "pygments_lexer": "ipython3",
   "version": "3.9.2"
  }
 },
 "nbformat": 4,
 "nbformat_minor": 5
}
