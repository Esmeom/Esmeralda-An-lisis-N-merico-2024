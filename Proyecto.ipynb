{
 "cells": [
  {
   "cell_type": "markdown",
   "id": "given-essay",
   "metadata": {},
   "source": [
    "# Ley de radiación de Plank\n",
    "La densidad de energia dentro de un cuerpo negro isotermico se calcula con la ley de radiación de Plank dada por la siguiente ecuación\n",
    "$$\\phi(\\gamma)= \\frac{8\\pi Pc}{\\gamma⁵(e^{Pc/\\gamma Tk}-1)} \\label{eq1}\\tag{1} $$\n",
    "\n",
    "Suponiendo queremos calcular la longitud de onda $\\gamma_1$ para el valor maximo de la densidad de energia $\\phi(\\gamma_1)$.\n",
    "Para transformar la ecuación $(1)$ en una ecuación no lineal, se puede asumir que $u=\\frac{Pc}{\\gamma Tk}$ y obtener la siguiente expresión $\\psi_4(u)=-1+\\frac{u}{5}+e^{-u}\\label{eq2}\\tag{2}$. \n",
    "\n",
    "Derivando la ecuación $(2)$ e igualando a cero obtengo mis raices x... Si grafico $(2)$ igual puedo ver donde intersecta con cero y asi encontrar el valor inicial a reiterar.\n"
   ]
  },
  {
   "cell_type": "code",
   "execution_count": null,
   "id": "chubby-planet",
   "metadata": {},
   "outputs": [],
   "source": []
  },
  {
   "cell_type": "code",
   "execution_count": null,
   "id": "military-brand",
   "metadata": {},
   "outputs": [],
   "source": []
  }
 ],
 "metadata": {
  "kernelspec": {
   "display_name": "Python 3",
   "language": "python",
   "name": "python3"
  },
  "language_info": {
   "codemirror_mode": {
    "name": "ipython",
    "version": 3
   },
   "file_extension": ".py",
   "mimetype": "text/x-python",
   "name": "python",
   "nbconvert_exporter": "python",
   "pygments_lexer": "ipython3",
   "version": "3.9.2"
  }
 },
 "nbformat": 4,
 "nbformat_minor": 5
}
