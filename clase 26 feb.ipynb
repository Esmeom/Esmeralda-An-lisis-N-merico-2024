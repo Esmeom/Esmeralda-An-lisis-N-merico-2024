{
 "cells": [
  {
   "cell_type": "markdown",
   "id": "interior-superior",
   "metadata": {},
   "source": [
    "# Algebra Lineal\n",
    "## Scott. Cap.3 Sistemas lineales pag.35-37"
   ]
  },
  {
   "cell_type": "markdown",
   "id": "forbidden-forth",
   "metadata": {},
   "source": [
    "### 3.1 Gaussian elimination\n",
    "Un sistema lineal de n ecuaciones en n variables reales toma la forma\n",
    "$a_{11}x_1+a_{12}x_2+...a_{1n}x_n= f_1$\n",
    "$a_{21}x_1+a_{22}x_2+...a_{2n}x_n= f_2$\n",
    "....\n",
    "$a_{n1}x_1+a_{n2}x_2+...a_{nn}x_n= f_n$\n",
    "\n",
    ".... "
   ]
  },
  {
   "cell_type": "code",
   "execution_count": 9,
   "id": "brutal-violence",
   "metadata": {},
   "outputs": [
    {
     "name": "stdout",
     "output_type": "stream",
     "text": [
      "[[2 5 1]\n",
      " [5 9 8]\n",
      " [7 7 8]]\n",
      "[[5 1 3]\n",
      " [5 5 3]\n",
      " [7 9 4]]\n"
     ]
    }
   ],
   "source": [
    "import numpy as np\n",
    "import sympy as sy\n",
    "import matplotlib.pyplot as plt\n",
    "\n",
    "#para que me de matrices 3x3 aleatorias A y B con enteros demaximo valor 10 \n",
    "A=np.random.randint(10, size=(3,3))\n",
    "B=np.random.randint(10, size=(3,3))\n",
    "print(A)\n",
    "print(B)\n",
    "\n",
    "#paso 1: ahora deberiamos hacerle gauss jordan para reducir la matriz a una triangular superior\n",
    "#paso 2: luego hacer la sustitución para atras para encontrar las x"
   ]
  },
  {
   "cell_type": "markdown",
   "id": "solid-oxford",
   "metadata": {},
   "source": [
    "Notación que puede ser util en codigo: ejemplo\n",
    "A[2,0:] Te da toda la fila es decir [A[2,0],A[2,1],A[2,2]\n"
   ]
  },
  {
   "cell_type": "code",
   "execution_count": null,
   "id": "empirical-poverty",
   "metadata": {},
   "outputs": [],
   "source": []
  }
 ],
 "metadata": {
  "kernelspec": {
   "display_name": "Python 3",
   "language": "python",
   "name": "python3"
  },
  "language_info": {
   "codemirror_mode": {
    "name": "ipython",
    "version": 3
   },
   "file_extension": ".py",
   "mimetype": "text/x-python",
   "name": "python",
   "nbconvert_exporter": "python",
   "pygments_lexer": "ipython3",
   "version": "3.9.2"
  }
 },
 "nbformat": 4,
 "nbformat_minor": 5
}
