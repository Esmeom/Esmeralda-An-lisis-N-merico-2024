{
 "cells": [
  {
   "cell_type": "markdown",
   "id": "chief-dependence",
   "metadata": {},
   "source": [
    "# CONDICIÓN DE LIPSCHITZ\n",
    "## Scott. Pag. 19-22\n",
    "    Sea g en C' en un intervalo alrededor de $\\alpha$ \n",
    "    \n",
    "    $\\alpha =g(\\alpha)$\n",
    "    \n",
    "    $|g(\\alpha)-g(x)|<\\lambda|\\alpha-x|$\n",
    "\n",
    "# Metodo de newton?????\n",
    "# Scott pag 22....\n",
    "\n",
    "\n",
    " Hacer un codigo que compare lo que da esta ecuación de la cuerda $x_{n+1}=x_n-\\frac{f(x_n}{s}$ con esta que es el metodo de newton $x_{n+1}=x_n-\\frac{f(x_n)}{f(x_n)'}$ osease con s siendo $s=f'(x_n)$ y ver cual converge más rapido osease cual hace menos iteraciones... plot twist el de newton es el mas vergas"
   ]
  }
 ],
 "metadata": {
  "kernelspec": {
   "display_name": "Python 3",
   "language": "python",
   "name": "python3"
  },
  "language_info": {
   "codemirror_mode": {
    "name": "ipython",
    "version": 3
   },
   "file_extension": ".py",
   "mimetype": "text/x-python",
   "name": "python",
   "nbconvert_exporter": "python",
   "pygments_lexer": "ipython3",
   "version": "3.9.2"
  }
 },
 "nbformat": 4,
 "nbformat_minor": 5
}
