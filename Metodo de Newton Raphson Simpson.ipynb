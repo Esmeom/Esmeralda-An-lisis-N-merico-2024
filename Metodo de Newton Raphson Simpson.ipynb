{
 "cells": [
  {
   "cell_type": "markdown",
   "id": "9f97d0d1",
   "metadata": {},
   "source": [
    "### Sea una función $f(x)$ puedo encontrar sus raices reteirando la siguiente expresión $x_{n+1}=x_n-\\frac{f(x_n)}{f'(x_n)}$ hasta que esta converja a un punto fijo.\n",
    "\n",
    "1. Identificar función no lineal a resolver\n",
    "2. Puedes graficar la función f(x) y ver su intersección con el eje x para aproximar el valor inicial de x: $x_0$ con el que empezamos a iterar \n",
    "3. Para ese x inicial, calculas la derivada de f y llenas la ecuación. Esa es tu primera iteración, resultara una x, esta nueva x la metemos a la ecuación, calculamos de nuevo la derivada en ese x y asi hasta que el x que salga es igual al x pasado: se encontró un punto fijo y esa es la raiz buscada."
   ]
  },
  {
   "cell_type": "code",
   "execution_count": 1,
   "id": "0bd5955f",
   "metadata": {},
   "outputs": [
    {
     "name": "stdout",
     "output_type": "stream",
     "text": [
      "Ingrese la ecuación en términos de x: x**3-4*x**2-2\n",
      "Ingrese una aproximación inicial para la raíz: 4\n",
      "Iteración 1: x = 4.125\n",
      "Iteración 2: x = 4.117965367965368\n",
      "Iteración 3: x = 4.11794227169293\n",
      "Iteración 4: x = 4.117942271444376\n",
      "\n",
      "La raíz encontrada es: 4.117942271444376\n",
      "Número de iteraciones realizadas: 4\n"
     ]
    }
   ],
   "source": [
    "#importo sympy para operar con valores simbolicos \n",
    "import sympy as sp\n",
    "\n",
    "#defino funcion que iterarara e ira lanzando las x resultantes asi como el conteo de iteracion\n",
    "#nombre de mi función: newton_method\n",
    "#func es la función f(x), \n",
    "#tol es la diferencia menor entre x's para que se considere que esta ya no cambia\n",
    "#max_iter es el numero maxima de iteraciones que se realizaran\n",
    "def newton_method(func, x0, tol=1e-6, max_iter=50):\n",
    "    #defino mi variable como un simbolo \n",
    "    x = sp.symbols('x')\n",
    "    # Convierte la función sympy a una función lambda, esta puede evaluar numeros\n",
    "    f = sp.lambdify(x, func)\n",
    "    \n",
    "    #calculo la derivada de la función con diff definido por sympy\n",
    "    df = sp.diff(func, x)  \n",
    "    #tambien lambdify a df para que pueda evaluarle valores numericos\n",
    "    df = sp.lambdify(x, df)\n",
    "    \n",
    "    #inicializo contador de iteraciones en cero\n",
    "    iter_count = 0\n",
    "    \n",
    "    while True:\n",
    "        #definicion del metodo de newton\n",
    "        x1 = x0 - f(x0) / df(x0)\n",
    "        #cada que lo haga le sumo al contador de iteraciones\n",
    "        iter_count += 1\n",
    "        #para la iteración tal x resulto ser esto\n",
    "        print(f\"Iteración {iter_count}: x = {x1}\")\n",
    "        #salimos del while cuando la diferencia entre las x sea menor a la tolerancia\n",
    "        #o cuando ya llegue al maximo de iteraciones que limite\n",
    "        if abs(x1 - x0) < tol or iter_count >= max_iter:\n",
    "            break\n",
    "        #si no reasigno mi x inicial a la x calculada y repetimos    \n",
    "        x0 = x1\n",
    "    \n",
    "    #no siempre jala el newton entonces en ese caso rip y no converge\n",
    "    if iter_count >= max_iter:\n",
    "        print(\"El método de Newton no convergió después del máximo número de iteraciones.\")\n",
    "    \n",
    "    return x1, iter_count\n",
    "\n",
    "if __name__ == \"__main__\":\n",
    "    #con input pide al usuario ingresar algo, lo que ingresa se guarda en equation_str\n",
    "    equation_str = input(\"Ingrese la ecuación en términos de x: \")\n",
    "   \n",
    "    x = sp.symbols('x')\n",
    "     #convierte la cadena de ecuación en una expresión sympy\n",
    "    equation = sp.sympify(equation_str)\n",
    "    \n",
    "    #solicitar la aproximación inicial al usuario, la entrada recibida se convierte en float y se guarda en x_0\n",
    "    x0 = float(input(\"Ingrese una aproximación inicial para la raíz: \"))\n",
    "    \n",
    "    #llama a la funcion newton con dos argumentos ya recibidos equation y x_0\n",
    "    #asignando dos valores, root y iterations que en el prototipo de la funcion llamamos x1 y iter_count\n",
    "    root, iterations = newton_method(equation, x0)\n",
    "    \n",
    "    print(f\"\\nLa raíz encontrada es: {root}\")\n",
    "    print(f\"Número de iteraciones realizadas: {iterations}\")\n"
   ]
  },
  {
   "cell_type": "code",
   "execution_count": null,
   "id": "ad748112",
   "metadata": {},
   "outputs": [],
   "source": []
  }
 ],
 "metadata": {
  "kernelspec": {
   "display_name": "Python 3 (ipykernel)",
   "language": "python",
   "name": "python3"
  },
  "language_info": {
   "codemirror_mode": {
    "name": "ipython",
    "version": 3
   },
   "file_extension": ".py",
   "mimetype": "text/x-python",
   "name": "python",
   "nbconvert_exporter": "python",
   "pygments_lexer": "ipython3",
   "version": "3.11.5"
  }
 },
 "nbformat": 4,
 "nbformat_minor": 5
}
