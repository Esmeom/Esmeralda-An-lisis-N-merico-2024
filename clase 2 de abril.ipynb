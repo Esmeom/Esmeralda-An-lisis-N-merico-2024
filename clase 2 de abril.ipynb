{
 "cells": [
  {
   "cell_type": "markdown",
   "id": "collaborative-development",
   "metadata": {},
   "source": [
    "Numero dual de Grassman\n",
    "\n",
    "Libro Gezerlis 3.4 Derivación Automatica\n",
    "\n",
    "# Derivación automatica\n",
    "Una forma de definir derivadas en una computadora es atra ves de la diferenciación automatica o diferenciación algoritmica.\n",
    "\n",
    "### 3.4.1 Numeros duales\n",
    "Un numero dual es tal $a$ que se extiende agregandole un componente \n",
    "$\\mathbf{a}=a+a'd$ \n",
    "Y se ocupa $d²=0$\n",
    "\n",
    "Como funciona la adición con numeros duales\n",
    "$\\mathbf{a+b}=(a+a'd)+(b+b'd)=a+b+(a'+b')d$\n",
    "\n",
    "Y la multiplicación con numeros duales\n",
    "$\\mathbf{axb}=(a+a'd)x(b+b'd)=ab+ab'd+ba'd+a'b'd²=ab+(ab'+a'b)d$\n",
    "\n",
    "Podemos dejar de usar $d$ y escribir los numeros duales usando pares ordenados de numeros reales $\\mathbf{a}=(a,a')$\n",
    "Entonces a nos da el valor de una función en un punto especifico y a' el valor de la derivada de esa funcion en ese mismo punto. Entonces las reglas aritmeticas basicas quedan:\n",
    "\n",
    "$\\mathbf{a+b}=(a+b,a'+b')$\n",
    "\n",
    "$\\mathbf{a-b}=(a-b,a'-b')$\n",
    "\n",
    "$\\mathbf{axb}=(ab,ab'+a'b)$\n",
    "\n",
    "$\\mathbf{a/b}=(a/b,\\frac{a'b-ab'}{b²})$\n",
    "\n",
    "Estos numeros duales nos dan una forma de diferenciar entre operaciones matematicas elemantarias.\n",
    "\n",
    "Definimos\n",
    "\n",
    "Constantes $\\mathbf{c}=(c,0)$\n",
    "\n",
    "Variables independientes $\\mathbf{x}=(x,1)$\n",
    "\n"
   ]
  },
  {
   "cell_type": "markdown",
   "id": "downtown-basin",
   "metadata": {},
   "source": [
    "### Derivada\n",
    "En la práctica, nos enfrentamos con una función $f(x)$ para la cual queremos calcular su derivada. \n",
    "Para lograr esto, remplazamos todas las $x$ with $\\mathbf{x}$, todas las constantes $c$ con $\\mathbf{c}$ y usamos las reglas artimeticas definidas.\n",
    "Entonces llegamos a otra función: $\\mathbf{f(x)}$, evaluandola a un punto especifico $(x_0, 1)$ se obtiene el siguiente par ordenado $(f(x_0),f′(x_0))$, obteniendo lo que queriamos.\n",
    "\n",
    "EJEMPLO.\n",
    "Computar $f(6)$ y $f´(6)$ para $f(x)=\\frac{(x+2)(x-3)}{x-4}$\n",
    "El valor de $f(6)$ se calcula inmediato solo metiendo x en la ecuación. Pero para el calculo de $f´(6)$ lo haremos con el metodo descrito, empiezo por escribir la ecuación todo con numeros duales.\n",
    "\n",
    "$\\mathbf{f(x)}= [(x,1)\\mathbf{+}(2,0)]\\mathbf{x}[(x,1)-(3,0)]\\mathbf{/}(x,1)-(4,0)$\n",
    "\n",
    "Sin ocupar una expresión para el calculo de f', vamos a calcular la derivada en $\\mathbf{x}= (6,1)$ con solo meter esta x dual en nuestra ultima expresión y realizando las operaciones aritmeticas.\n",
    "\n",
    "\n",
    "$\\mathbf{f(6)}= [(6,1)\\mathbf{+}(2,0)]\\mathbf{x}[(6,1)-(3,0)]\\mathbf{/}(6,1)-(4,0)$\n",
    "\n"
   ]
  },
  {
   "cell_type": "markdown",
   "id": "leading-pencil",
   "metadata": {},
   "source": [
    "REGLA DE LA CADENA PARA DUALES\n"
   ]
  },
  {
   "cell_type": "markdown",
   "id": "alpine-observation",
   "metadata": {},
   "source": [
    "Pag. 112 Gezerlis\n",
    "\n",
    "HACER UN CODIGO QUE haga DIFERENCIACION AUTOMATICA CON NUMEROS DUALES POR EJEMPLO LA DERIVADA DE $f(x)=e^{sin(2x)}$ en el punto $x=0.5$"
   ]
  },
  {
   "cell_type": "code",
   "execution_count": null,
   "id": "higher-briefing",
   "metadata": {},
   "outputs": [],
   "source": []
  },
  {
   "cell_type": "code",
   "execution_count": null,
   "id": "extreme-environment",
   "metadata": {},
   "outputs": [],
   "source": []
  }
 ],
 "metadata": {
  "kernelspec": {
   "display_name": "Python 3",
   "language": "python",
   "name": "python3"
  },
  "language_info": {
   "codemirror_mode": {
    "name": "ipython",
    "version": 3
   },
   "file_extension": ".py",
   "mimetype": "text/x-python",
   "name": "python",
   "nbconvert_exporter": "python",
   "pygments_lexer": "ipython3",
   "version": "3.9.2"
  }
 },
 "nbformat": 4,
 "nbformat_minor": 5
}
