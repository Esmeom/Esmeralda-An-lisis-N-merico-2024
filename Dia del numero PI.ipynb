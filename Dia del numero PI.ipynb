{
 "cells": [
  {
   "cell_type": "markdown",
   "id": "administrative-creation",
   "metadata": {},
   "source": [
    "# Dia de pi\n",
    "### pi tiene una secuencia de 6 nueves seguidos entre todos sus numeros ¡Encuentrala!\n"
   ]
  },
  {
   "cell_type": "markdown",
   "id": "physical-boulder",
   "metadata": {},
   "source": [
    "\n",
    "Para calcular pi, elijo la serie de Leibiniz:\n",
    "$pi= 4-\\frac{4}{3}+\\frac{4}{5}-\\frac{4}{7}+...$"
   ]
  },
  {
   "cell_type": "code",
   "execution_count": 12,
   "id": "particular-advocacy",
   "metadata": {},
   "outputs": [
    {
     "data": {
      "text/plain": [
       "mpf('3.141492653590043404132452209420733879596809856593608856201171875')"
      ]
     },
     "execution_count": 12,
     "metadata": {},
     "output_type": "execute_result"
    }
   ],
   "source": [
    "import mpmath as mp\n",
    "mp.mp.dps=1500\n",
    "s= mp.mpf(0)\n",
    "#inicializamos el denominador k y la suma s\n",
    "k = 1\n",
    "\n",
    "\n",
    "#i es el contador de veces que repetiremos numero de terminos de la serie \n",
    "for i in range(10000):\n",
    "#para el valor de k y s actual se hace:\n",
    "    #paraun numero de termino par a la serie se suma 4/k\n",
    "    if i % 2 == 0:\n",
    "        s+= 4/k\n",
    "    #si i es impar se hace la resta de 4/k\n",
    "    else:\n",
    "        s-= 4/k\n",
    "    #para seguir al siguiente termino aumentamos k en 2\n",
    "    k+= 2\n",
    "    \n",
    "s"
   ]
  },
  {
   "cell_type": "markdown",
   "id": "effective-binding",
   "metadata": {},
   "source": [
    "Otro metodo \n"
   ]
  },
  {
   "cell_type": "code",
   "execution_count": 48,
   "id": "important-prescription",
   "metadata": {},
   "outputs": [
    {
     "name": "stdout",
     "output_type": "stream",
     "text": [
      "3.141592653589793238462643383279502884197169399375105820974944592307816406286208998628034825342117067982148086513282306647093844609550582231725359408128481117450284102701938521105559644622948954930381964428810975665933446128475648233786783165271201909145648566923460348610454326648213393607260249141273724587006606315588174881520920962829254091715364367892590360011330530548820466521384146951941511609433057270365759591953092186117381932611793105118548074462379962749567351885752724891227938183011949129833673362440656643086021394946395224737190702179860943702770539217176293176752384674818467669405132000568127145263560827785771342757789609173637178721468440901224953430146549585371050792279689258923542019956112129021960864034418159813629774771309960518707211349999998372978049951059731732816096318595024459455346908302642522308253344685035261931188171010003137838752886587533208381420617177669147303598253490428755468731159562863882353787593751957781857780532171226806613001927876611195909216420193\n",
      "Ubicación de los seis nueves\n",
      "762\n"
     ]
    }
   ],
   "source": [
    "from decimal import Decimal\n",
    "from decimal import getcontext\n",
    "\n",
    "def pi(precision):\n",
    "    getcontext().prec=precision\n",
    "    return sum(1/Decimal(16)**k * \n",
    "        (Decimal(4)/(8*k+1) - \n",
    "         Decimal(2)/(8*k+4) - \n",
    "         Decimal(1)/(8*k+5) -\n",
    "         Decimal(1)/(8*k+6)) for k in range (precision))\n",
    "#precision - how many digits of pi will be calculated\n",
    "\n",
    "print(pi(1000))\n",
    "\n",
    "#convierto pi a string\n",
    "PI=str(pi(1000))\n",
    "\n",
    "print('Ubicación de los seis nueves')\n",
    "print(PI.find('999999')-1)\n"
   ]
  },
  {
   "cell_type": "code",
   "execution_count": null,
   "id": "constant-investor",
   "metadata": {},
   "outputs": [],
   "source": []
  }
 ],
 "metadata": {
  "kernelspec": {
   "display_name": "Python 3",
   "language": "python",
   "name": "python3"
  },
  "language_info": {
   "codemirror_mode": {
    "name": "ipython",
    "version": 3
   },
   "file_extension": ".py",
   "mimetype": "text/x-python",
   "name": "python",
   "nbconvert_exporter": "python",
   "pygments_lexer": "ipython3",
   "version": "3.9.2"
  }
 },
 "nbformat": 4,
 "nbformat_minor": 5
}
