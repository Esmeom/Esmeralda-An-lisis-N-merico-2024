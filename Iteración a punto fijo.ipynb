{
 "cells": [
  {
   "cell_type": "markdown",
   "id": "available-bread",
   "metadata": {},
   "source": [
    "# Metodo Newton-Rhapson-Simpson\n",
    "## Encontrar raices\n",
    "### Numerical Analysis, Scott, Capitulo 2\n",
    "Buscamos solución a la ecuación de Kepler $x-Esin x=\\tau$\n",
    "\n",
    "Entonces para solucionar esta ecuación se busca una función g(x) que se reitere hasta N veces hasta encontrar el punto fijo es decir una $x_{n+1}= g(x_n)$ hasta un punto fijo que ya convergio $x_N=g(x_N)$\n",
    "\n",
    "Propuesta de Newton: $g(x)=x+\\frac{\\tau-x+E sinx}{1-Ecosx}$\n",
    "\n",
    "Propuesta de Kepler: $g(x)=\\tau+E sin x$\n",
    "\n",
    "¿Cual converge al punto fijo más rapido?\n",
    "\n",
    "Hay que hacer un programita que encuente el punto fijo x con ambas funciones y ver cual converge al punto fijo más rapido (en menos iteraciones)"
   ]
  },
  {
   "cell_type": "code",
   "execution_count": 1,
   "id": "split-twins",
   "metadata": {},
   "outputs": [],
   "source": [
    "import numpy as np\n",
    "import sympy as sy\n",
    "import matplotlib.pyplot as plt\n",
    "\n",
    "#defino funcion kepler a resolver, la llamo f\n",
    "def f(epsilon, tau, x):\n",
    "    return (tau-x + epsilon*np.sin(x))\n",
    "\n",
    "#defino solucion de Newton, funcion iterativa\n",
    "def newton(epsilon, tau, x):\n",
    "    '''Esta función nos da la iteración de punto fijo de Newton-Rhapson-Simpson'''\n",
    "    return x + (tau-x + epsilon*np.sin(x))/(1-epsilon*np.cos(x))\n",
    "\n",
    "#defino otra solucion alternativa, pa comparar con la de Newton\n",
    "def alt(epsilon, tau, x):\n",
    "    '''Esta es una alternativa'''\n",
    "    return tau + epsilon*np.sin(x)\n",
    "\n",
    "#defino funcion que itera\n",
    "#recibe otra funcion y la opera inicializando con valores dados\n",
    "#la itera hasta que la función sea igual a x, imprime todas las iteraciones\n",
    "def itera(g, x0, epsilon, tau):\n",
    "    '''Iteración con función g, y valor inicial x0'''\n",
    "    x = x0\n",
    "    print(x)\n",
    "    while x != g(epsilon, tau, x):\n",
    "        x = g(epsilon, tau, x)\n",
    "        print(x)\n",
    "    return x\n",
    "    \n"
   ]
  },
  {
   "cell_type": "code",
   "execution_count": 2,
   "id": "f846e194",
   "metadata": {
    "scrolled": true
   },
   "outputs": [
    {
     "name": "stdout",
     "output_type": "stream",
     "text": [
      "0.5\n",
      "1.100654988195724\n",
      "1.0886045261524748\n",
      "1.088597752400025\n",
      "1.0885977523978936\n"
     ]
    },
    {
     "data": {
      "text/plain": [
       "1.0885977523978936"
      ]
     },
     "execution_count": 2,
     "metadata": {},
     "output_type": "execute_result"
    }
   ],
   "source": [
    "#itero mi funcion newton con esos valores iniciales hasta que mi funcion evaluada sea igual a x\n",
    "itera(newton,0.5,0.1,1)"
   ]
  },
  {
   "cell_type": "code",
   "execution_count": 3,
   "id": "ffd691cf",
   "metadata": {
    "scrolled": true
   },
   "outputs": [
    {
     "name": "stdout",
     "output_type": "stream",
     "text": [
      "0.5\n",
      "1.0479425538604203\n",
      "1.086639766474731\n",
      "1.0885067853016681\n",
      "1.088593533630708\n",
      "1.0885975567609814\n",
      "1.088597743325657\n",
      "1.0885977519771886\n",
      "1.0885977523783843\n",
      "1.088597752396989\n",
      "1.0885977523978516\n",
      "1.0885977523978916\n",
      "1.0885977523978936\n"
     ]
    },
    {
     "data": {
      "text/plain": [
       "1.0885977523978936"
      ]
     },
     "execution_count": 3,
     "metadata": {},
     "output_type": "execute_result"
    }
   ],
   "source": [
    "#itero mi funcion alt hasta que converja\n",
    "itera(alt,0.5,0.1,1)"
   ]
  },
  {
   "cell_type": "code",
   "execution_count": null,
   "id": "23c19326",
   "metadata": {},
   "outputs": [],
   "source": []
  }
 ],
 "metadata": {
  "kernelspec": {
   "display_name": "Python 3 (ipykernel)",
   "language": "python",
   "name": "python3"
  },
  "language_info": {
   "codemirror_mode": {
    "name": "ipython",
    "version": 3
   },
   "file_extension": ".py",
   "mimetype": "text/x-python",
   "name": "python",
   "nbconvert_exporter": "python",
   "pygments_lexer": "ipython3",
   "version": "3.11.5"
  }
 },
 "nbformat": 4,
 "nbformat_minor": 5
}
