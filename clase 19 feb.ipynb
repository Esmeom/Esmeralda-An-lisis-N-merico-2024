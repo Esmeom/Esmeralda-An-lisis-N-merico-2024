{
 "cells": [
  {
   "cell_type": "markdown",
   "id": "passing-swedish",
   "metadata": {},
   "source": [
    "\n",
    "Scott, Numerical Analysis Cap. 1.4. Pag. 9.\n",
    "\n",
    "El algoritmo $x+x²-y$ que tienda a $x$ osea si cambiamos en nuestro codigo en $y = (x + n / x)$ / 2 a $y = (x+x²-y) / 2$ y esto al correr el codigo da error porque se trata de un algoritmo inestable"
   ]
  },
  {
   "cell_type": "code",
   "execution_count": 1,
   "id": "further-winning",
   "metadata": {},
   "outputs": [
    {
     "name": "stderr",
     "output_type": "stream",
     "text": [
      "/home/aamyf/.local/lib/python3.9/site-packages/matplotlib/projections/__init__.py:63: UserWarning: Unable to import Axes3D. This may be due to multiple versions of Matplotlib being installed (e.g. as a system package and as a pip package). As a result, the 3D projection is not available.\n",
      "  warnings.warn(\"Unable to import Axes3D. This may be due to multiple versions of \"\n"
     ]
    },
    {
     "ename": "UnboundLocalError",
     "evalue": "local variable 'y' referenced before assignment",
     "output_type": "error",
     "traceback": [
      "\u001b[0;31m---------------------------------------------------------------------------\u001b[0m",
      "\u001b[0;31mUnboundLocalError\u001b[0m                         Traceback (most recent call last)",
      "\u001b[0;32m<ipython-input-1-cbc4bea71f10>\u001b[0m in \u001b[0;36m<module>\u001b[0;34m\u001b[0m\n\u001b[1;32m     23\u001b[0m \u001b[0;31m# Ejemplo de uso:\u001b[0m\u001b[0;34m\u001b[0m\u001b[0;34m\u001b[0m\u001b[0;34m\u001b[0m\u001b[0m\n\u001b[1;32m     24\u001b[0m \u001b[0mnumero\u001b[0m \u001b[0;34m=\u001b[0m \u001b[0;36m25\u001b[0m  \u001b[0;31m# El número del cual queremos encontrar la raíz cuadrada\u001b[0m\u001b[0;34m\u001b[0m\u001b[0;34m\u001b[0m\u001b[0m\n\u001b[0;32m---> 25\u001b[0;31m \u001b[0mraiz_cuadrada\u001b[0m \u001b[0;34m=\u001b[0m \u001b[0mheron\u001b[0m\u001b[0;34m(\u001b[0m\u001b[0mnumero\u001b[0m\u001b[0;34m)\u001b[0m\u001b[0;34m\u001b[0m\u001b[0;34m\u001b[0m\u001b[0m\n\u001b[0m\u001b[1;32m     26\u001b[0m \u001b[0mprint\u001b[0m\u001b[0;34m(\u001b[0m\u001b[0;34m\"La raíz cuadrada de\"\u001b[0m\u001b[0;34m,\u001b[0m \u001b[0mnumero\u001b[0m\u001b[0;34m,\u001b[0m \u001b[0;34m\"es:\"\u001b[0m\u001b[0;34m,\u001b[0m \u001b[0mraiz_cuadrada\u001b[0m\u001b[0;34m)\u001b[0m\u001b[0;34m\u001b[0m\u001b[0;34m\u001b[0m\u001b[0m\n\u001b[1;32m     27\u001b[0m \u001b[0;34m\u001b[0m\u001b[0m\n",
      "\u001b[0;32m<ipython-input-1-cbc4bea71f10>\u001b[0m in \u001b[0;36mheron\u001b[0;34m(n, precision, max_iter)\u001b[0m\n\u001b[1;32m     15\u001b[0m     \u001b[0mx\u001b[0m \u001b[0;34m=\u001b[0m \u001b[0mn\u001b[0m \u001b[0;34m/\u001b[0m \u001b[0;36m2\u001b[0m  \u001b[0;31m# Asumimos una aproximación inicial de la raíz cuadrada de n\u001b[0m\u001b[0;34m\u001b[0m\u001b[0;34m\u001b[0m\u001b[0m\n\u001b[1;32m     16\u001b[0m     \u001b[0;32mfor\u001b[0m \u001b[0m_\u001b[0m \u001b[0;32min\u001b[0m \u001b[0mrange\u001b[0m\u001b[0;34m(\u001b[0m\u001b[0mmax_iter\u001b[0m\u001b[0;34m)\u001b[0m\u001b[0;34m:\u001b[0m\u001b[0;34m\u001b[0m\u001b[0;34m\u001b[0m\u001b[0m\n\u001b[0;32m---> 17\u001b[0;31m         \u001b[0my\u001b[0m \u001b[0;34m=\u001b[0m \u001b[0;34m(\u001b[0m\u001b[0mx\u001b[0m\u001b[0;34m+\u001b[0m\u001b[0mx\u001b[0m\u001b[0;34m**\u001b[0m\u001b[0;36m2\u001b[0m\u001b[0;34m-\u001b[0m\u001b[0my\u001b[0m\u001b[0;34m)\u001b[0m \u001b[0;34m/\u001b[0m \u001b[0;36m2\u001b[0m  \u001b[0;31m# Fórmula de Herón para la siguiente aproximación\u001b[0m\u001b[0;34m\u001b[0m\u001b[0;34m\u001b[0m\u001b[0m\n\u001b[0m\u001b[1;32m     18\u001b[0m         \u001b[0;32mif\u001b[0m \u001b[0mabs\u001b[0m\u001b[0;34m(\u001b[0m\u001b[0mx\u001b[0m \u001b[0;34m-\u001b[0m \u001b[0my\u001b[0m\u001b[0;34m)\u001b[0m \u001b[0;34m<\u001b[0m \u001b[0mprecision\u001b[0m\u001b[0;34m:\u001b[0m  \u001b[0;31m# Comprobamos si la diferencia es menor que la precisión deseada\u001b[0m\u001b[0;34m\u001b[0m\u001b[0;34m\u001b[0m\u001b[0m\n\u001b[1;32m     19\u001b[0m             \u001b[0;32mreturn\u001b[0m \u001b[0my\u001b[0m\u001b[0;34m\u001b[0m\u001b[0;34m\u001b[0m\u001b[0m\n",
      "\u001b[0;31mUnboundLocalError\u001b[0m: local variable 'y' referenced before assignment"
     ]
    }
   ],
   "source": [
    "#importamos las librerias\n",
    "import numpy as np\n",
    "import sympy as sy\n",
    "import matplotlib.pyplot as plt\n",
    "\n",
    "def heron(n, precision=1e-10, max_iter=1000):\n",
    "    \"\"\"\n",
    "    Encuentra la raíz cuadrada de n usando el método de Herón.\n",
    "    \n",
    "    :param n: El número del cual se quiere encontrar la raíz cuadrada.\n",
    "    :param precision: La precisión deseada.\n",
    "    :param max_iter: El número máximo de iteraciones permitidas.\n",
    "    :return: La raíz cuadrada de n.\n",
    "    \"\"\"\n",
    "    x = n / 2  # Asumimos una aproximación inicial de la raíz cuadrada de n\n",
    "    for _ in range(max_iter):\n",
    "        y = (x+x**2-y) / 2  # Fórmula de Herón para la siguiente aproximación\n",
    "        if abs(x - y) < precision:  # Comprobamos si la diferencia es menor que la precisión deseada\n",
    "            return y\n",
    "        x = y\n",
    "    return x  # En caso de no converger, devolvemos la aproximación actual\n",
    "\n",
    "# Ejemplo de uso:\n",
    "numero = 25  # El número del cual queremos encontrar la raíz cuadrada\n",
    "raiz_cuadrada = heron(numero)\n",
    "print(\"La raíz cuadrada de\", numero, \"es:\", raiz_cuadrada)\n",
    "\n"
   ]
  },
  {
   "cell_type": "markdown",
   "id": "reserved-elite",
   "metadata": {},
   "source": [
    "# (Cancelación catastrofica)\n",
    "\n",
    "Se le llama cancelación catastrofica a cuando buscando la solución de una ecuación por ejemplo $x²+2bx+1=0$ queda en algo que se va a cero perdiendo información muy pequeña que podria ser util por ejemplo si el punto fijo se da con $x$ tentiendo a $-b+\\sqrt{b²-1}$ tal que de $-b+b+\\delta$ donde $\\delta$ es tan pequeño que x tienda a cero aun que para mi $\\delta$ si era importante.\n",
    "\n"
   ]
  },
  {
   "cell_type": "markdown",
   "id": "danish-disease",
   "metadata": {},
   "source": [
    "pagina 10 del Scott\n",
    "\n",
    "Dado b quiero x tal que $x²-2bx+1=0$ hay 4 formas de sacar algo que ver con esa x\n",
    "\n",
    "Algoritmo posible 1.\n",
    "Puedo evaluar la respuesta tipica de la chicharronera $\\pm x=b \\pm \\sqrt{b²-1}$\n",
    "\n",
    "Hay dos opciones: x raiz positiva  $x_+=b+\\sqrt{b²-1}$ o x raiz negativa $x_-=b-\\sqrt{b²-1}$\n",
    "\n",
    "Ojo $(b+\\sqrt{b²-1})(b-\\sqrt{b²-1})= (x_+)(x_-)=1$\n",
    "\n",
    "Algoritmo posible 2.la inversa de la raiz positiva\n",
    "Evaluar $x_+$ y definir $x_-= 1/x_+$\n",
    "\n",
    "Algoritmo posible 3. la inversa de la raiz negativa\n",
    "Evaluar $x_-$ y definir $x_+= 1/x_-$"
   ]
  },
  {
   "cell_type": "code",
   "execution_count": 18,
   "id": "optical-religious",
   "metadata": {},
   "outputs": [],
   "source": [
    "import numpy as np\n",
    "import sympy as sy\n",
    "import matplotlib.pyplot as plt\n",
    "\n",
    "bg = 100000000"
   ]
  },
  {
   "cell_type": "code",
   "execution_count": null,
   "id": "exceptional-destiny",
   "metadata": {},
   "outputs": [],
   "source": []
  },
  {
   "cell_type": "code",
   "execution_count": 19,
   "id": "respected-repeat",
   "metadata": {},
   "outputs": [
    {
     "data": {
      "text/plain": [
       "200000000.0"
      ]
     },
     "execution_count": 19,
     "metadata": {},
     "output_type": "execute_result"
    }
   ],
   "source": [
    "#Para el algoritmo 1: raiz positiva, la saco con función que evalue a b dado por usuario\n",
    "def xp(b):\n",
    "    return b+np.sqrt(b**2-1)\n",
    "xp(bg)"
   ]
  },
  {
   "cell_type": "code",
   "execution_count": 20,
   "id": "sapphire-direction",
   "metadata": {},
   "outputs": [
    {
     "data": {
      "text/plain": [
       "0.0"
      ]
     },
     "execution_count": 20,
     "metadata": {},
     "output_type": "execute_result"
    }
   ],
   "source": [
    "\n",
    "#Para el algoritmo 1.1: raiz negativa\n",
    "def xn(b):\n",
    "    return b-np.sqrt(b**2-1)\n",
    "xn(bg)\n"
   ]
  },
  {
   "cell_type": "code",
   "execution_count": 21,
   "id": "treated-failure",
   "metadata": {},
   "outputs": [
    {
     "data": {
      "text/plain": [
       "5e-09"
      ]
     },
     "execution_count": 21,
     "metadata": {},
     "output_type": "execute_result"
    }
   ],
   "source": [
    "\n",
    "#Algoritmo 2: inversa de la raiz positiva: ocupo xp\n",
    "def xpin(b):\n",
    "    return 1/xp(b)\n",
    "xpin(bg)\n"
   ]
  },
  {
   "cell_type": "code",
   "execution_count": 22,
   "id": "downtown-reviewer",
   "metadata": {},
   "outputs": [
    {
     "name": "stderr",
     "output_type": "stream",
     "text": [
      "<ipython-input-22-edbeead0dece>:3: RuntimeWarning: divide by zero encountered in scalar divide\n",
      "  return 1/xn(b)\n"
     ]
    },
    {
     "data": {
      "text/plain": [
       "inf"
      ]
     },
     "execution_count": 22,
     "metadata": {},
     "output_type": "execute_result"
    }
   ],
   "source": [
    "\n",
    "#Algoritmo 3: inversa de la raiz negativa: ocupo xn\n",
    "def xnin(b):\n",
    "    return 1/xn(b)\n",
    "xnin(bg)"
   ]
  },
  {
   "cell_type": "code",
   "execution_count": 23,
   "id": "shared-fitness",
   "metadata": {},
   "outputs": [
    {
     "name": "stderr",
     "output_type": "stream",
     "text": [
      "<ipython-input-22-edbeead0dece>:3: RuntimeWarning: divide by zero encountered in scalar divide\n",
      "  return 1/xn(b)\n"
     ]
    },
    {
     "data": {
      "text/plain": [
       "inf"
      ]
     },
     "execution_count": 23,
     "metadata": {},
     "output_type": "execute_result"
    }
   ],
   "source": [
    "#producto de xpin y xnin debe de dar 1 ...\n",
    "xpin(bg)*xnin(bg)"
   ]
  },
  {
   "cell_type": "code",
   "execution_count": 24,
   "id": "alive-wisconsin",
   "metadata": {},
   "outputs": [
    {
     "data": {
      "text/plain": [
       "1.0"
      ]
     },
     "execution_count": 24,
     "metadata": {},
     "output_type": "execute_result"
    }
   ],
   "source": [
    "#Para ver que tan cerca estuvo.. osea ¿si cumplen estas raices que da la =0?\n",
    "#Evaluamos lo obtenido de nuestras dos raices del algoritmo uno en nuestra ecuación cuadratica a ver cuanto da\n",
    "def errp(b):\n",
    "    return xp(b)**2-2*b*xp(b)+1\n",
    "errp(bg)"
   ]
  },
  {
   "cell_type": "code",
   "execution_count": 25,
   "id": "reflected-jamaica",
   "metadata": {},
   "outputs": [
    {
     "data": {
      "text/plain": [
       "1.0"
      ]
     },
     "execution_count": 25,
     "metadata": {},
     "output_type": "execute_result"
    }
   ],
   "source": [
    "def errn(b):\n",
    "    return xn(b)**2-2*b*xn(b)+1\n",
    "errn(bg)"
   ]
  },
  {
   "cell_type": "code",
   "execution_count": null,
   "id": "artificial-corps",
   "metadata": {},
   "outputs": [],
   "source": []
  },
  {
   "cell_type": "code",
   "execution_count": null,
   "id": "comparable-stopping",
   "metadata": {},
   "outputs": [],
   "source": []
  }
 ],
 "metadata": {
  "kernelspec": {
   "display_name": "Python 3",
   "language": "python",
   "name": "python3"
  },
  "language_info": {
   "codemirror_mode": {
    "name": "ipython",
    "version": 3
   },
   "file_extension": ".py",
   "mimetype": "text/x-python",
   "name": "python",
   "nbconvert_exporter": "python",
   "pygments_lexer": "ipython3",
   "version": "3.9.2"
  }
 },
 "nbformat": 4,
 "nbformat_minor": 5
}
